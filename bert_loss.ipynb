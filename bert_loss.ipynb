{
 "cells": [
  {
   "cell_type": "markdown",
   "id": "b2bf461d",
   "metadata": {},
   "source": [
    "# 0. Prep"
   ]
  },
  {
   "cell_type": "code",
   "execution_count": 1,
   "id": "ede11442",
   "metadata": {},
   "outputs": [],
   "source": [
    "%matplotlib inline\n",
    "\n",
    "import scipy\n",
    "import pandas as pd\n",
    "import numpy as np"
   ]
  },
  {
   "cell_type": "code",
   "execution_count": 2,
   "id": "7aa41e5e",
   "metadata": {},
   "outputs": [],
   "source": [
    "# Import Predictions on Wiki data\n",
    "\n",
    "wiki_wiki_df = pd.read_csv('workspace/loss/wiki_model_wiki_data.csv')\n",
    "full_wiki_df = pd.read_csv('workspace/loss/full_model_wiki_data.csv')\n",
    "\n",
    "# Import Predictions on Book data\n",
    "\n",
    "wiki_book_df = pd.read_csv('workspace/loss/wiki_model_book_data.csv')\n",
    "full_book_df = pd.read_csv('workspace/loss/full_model_book_data.csv')\n",
    "\n",
    "# Import Tag Analysis on Wiki Data\n",
    "\n",
    "tag_loss_df = pd.read_csv('results/expected_loss.csv', index_col='Tag')\n",
    "\n",
    "# Set minimum count for each tag in wiki test data, to ensure reasonable estimators\n",
    "\n",
    "tag_loss_df = tag_loss_df[tag_loss_df['Doc Count'] >= 100]"
   ]
  },
  {
   "cell_type": "markdown",
   "id": "5b49c8f9",
   "metadata": {},
   "source": [
    "# 1. Expected Loss"
   ]
  },
  {
   "cell_type": "code",
   "execution_count": 3,
   "id": "e40ee8f5",
   "metadata": {},
   "outputs": [
    {
     "data": {
      "text/plain": [
       "2.089758413518253"
      ]
     },
     "execution_count": 3,
     "metadata": {},
     "output_type": "execute_result"
    }
   ],
   "source": [
    "# Wiki Model\n",
    "\n",
    "wiki_loss = wiki_wiki_df['Loss'].mean()\n",
    "wiki_loss"
   ]
  },
  {
   "cell_type": "code",
   "execution_count": 4,
   "id": "035e3b93",
   "metadata": {},
   "outputs": [
    {
     "data": {
      "text/plain": [
       "2.2918429620704126"
      ]
     },
     "execution_count": 4,
     "metadata": {},
     "output_type": "execute_result"
    }
   ],
   "source": [
    "# Full Model\n",
    "\n",
    "full_loss = full_wiki_df['Loss'].mean()\n",
    "full_loss"
   ]
  },
  {
   "cell_type": "code",
   "execution_count": 5,
   "id": "608a71a4",
   "metadata": {},
   "outputs": [
    {
     "data": {
      "text/plain": [
       "0.2020845485521594"
      ]
     },
     "execution_count": 5,
     "metadata": {},
     "output_type": "execute_result"
    }
   ],
   "source": [
    "# Full model performs slightly worse on Wiki data ...\n",
    "# (Greater Loss is Lower Accuracy)\n",
    "\n",
    "full_loss - wiki_loss"
   ]
  },
  {
   "cell_type": "code",
   "execution_count": 6,
   "id": "f67ff1a8",
   "metadata": {},
   "outputs": [
    {
     "data": {
      "text/plain": [
       "Ttest_indResult(statistic=-38.6407228863456, pvalue=0.0)"
      ]
     },
     "execution_count": 6,
     "metadata": {},
     "output_type": "execute_result"
    }
   ],
   "source": [
    "# Statistical Significance\n",
    "\n",
    "scipy.stats.ttest_ind(wiki_wiki_df['Loss'], full_wiki_df['Loss'])"
   ]
  },
  {
   "cell_type": "code",
   "execution_count": 7,
   "id": "08c22ff3",
   "metadata": {
    "scrolled": true
   },
   "outputs": [
    {
     "data": {
      "text/plain": [
       "-2.0124328713883513"
      ]
     },
     "execution_count": 7,
     "metadata": {},
     "output_type": "execute_result"
    }
   ],
   "source": [
    "# ... But naturally the Full model does better on Book data\n",
    "\n",
    "full_book_df['Loss'].mean() - wiki_book_df['Loss'].mean()"
   ]
  },
  {
   "cell_type": "code",
   "execution_count": 8,
   "id": "f0b983bb",
   "metadata": {},
   "outputs": [
    {
     "data": {
      "text/plain": [
       "Ttest_indResult(statistic=226.24333128318304, pvalue=0.0)"
      ]
     },
     "execution_count": 8,
     "metadata": {},
     "output_type": "execute_result"
    }
   ],
   "source": [
    "# Statistical Significance\n",
    "\n",
    "scipy.stats.ttest_ind(wiki_book_df['Loss'], full_book_df['Loss'])"
   ]
  },
  {
   "cell_type": "markdown",
   "id": "ed18db2d",
   "metadata": {},
   "source": [
    "# 2. Loss Per Tag"
   ]
  },
  {
   "cell_type": "markdown",
   "id": "49d04e5f",
   "metadata": {},
   "source": [
    "### Headline Accuracy"
   ]
  },
  {
   "cell_type": "code",
   "execution_count": 9,
   "id": "b7bc652a",
   "metadata": {},
   "outputs": [
    {
     "data": {
      "text/html": [
       "<div>\n",
       "<style scoped>\n",
       "    .dataframe tbody tr th:only-of-type {\n",
       "        vertical-align: middle;\n",
       "    }\n",
       "\n",
       "    .dataframe tbody tr th {\n",
       "        vertical-align: top;\n",
       "    }\n",
       "\n",
       "    .dataframe thead th {\n",
       "        text-align: right;\n",
       "    }\n",
       "</style>\n",
       "<table border=\"1\" class=\"dataframe\">\n",
       "  <thead>\n",
       "    <tr style=\"text-align: right;\">\n",
       "      <th></th>\n",
       "      <th>Tag Type</th>\n",
       "      <th>Doc Count</th>\n",
       "      <th>Expected-Loss-Per-Word (Wiki)</th>\n",
       "      <th>Expected-Loss-Per-Word (Full)</th>\n",
       "    </tr>\n",
       "    <tr>\n",
       "      <th>Tag</th>\n",
       "      <th></th>\n",
       "      <th></th>\n",
       "      <th></th>\n",
       "      <th></th>\n",
       "    </tr>\n",
       "  </thead>\n",
       "  <tbody>\n",
       "    <tr>\n",
       "      <th>verb.competition</th>\n",
       "      <td>sst</td>\n",
       "      <td>4410</td>\n",
       "      <td>-0.226064</td>\n",
       "      <td>-0.234867</td>\n",
       "    </tr>\n",
       "    <tr>\n",
       "      <th>PunctType=Peri</th>\n",
       "      <td>mor</td>\n",
       "      <td>42666</td>\n",
       "      <td>-0.220284</td>\n",
       "      <td>-0.236890</td>\n",
       "    </tr>\n",
       "    <tr>\n",
       "      <th>SYM</th>\n",
       "      <td>pos</td>\n",
       "      <td>2235</td>\n",
       "      <td>-0.186239</td>\n",
       "      <td>-0.168095</td>\n",
       "    </tr>\n",
       "    <tr>\n",
       "      <th>Mood=Ind</th>\n",
       "      <td>mor</td>\n",
       "      <td>34635</td>\n",
       "      <td>-0.182003</td>\n",
       "      <td>-0.201199</td>\n",
       "    </tr>\n",
       "    <tr>\n",
       "      <th>PronType=Art</th>\n",
       "      <td>mor</td>\n",
       "      <td>68187</td>\n",
       "      <td>-0.177865</td>\n",
       "      <td>-0.189490</td>\n",
       "    </tr>\n",
       "    <tr>\n",
       "      <th>Definite=Def</th>\n",
       "      <td>mor</td>\n",
       "      <td>56805</td>\n",
       "      <td>-0.175617</td>\n",
       "      <td>-0.185289</td>\n",
       "    </tr>\n",
       "    <tr>\n",
       "      <th>ADP</th>\n",
       "      <td>pos</td>\n",
       "      <td>80856</td>\n",
       "      <td>-0.168727</td>\n",
       "      <td>-0.173951</td>\n",
       "    </tr>\n",
       "    <tr>\n",
       "      <th>DET</th>\n",
       "      <td>pos</td>\n",
       "      <td>70423</td>\n",
       "      <td>-0.165445</td>\n",
       "      <td>-0.176635</td>\n",
       "    </tr>\n",
       "    <tr>\n",
       "      <th>Definite=Ind</th>\n",
       "      <td>mor</td>\n",
       "      <td>26725</td>\n",
       "      <td>-0.161113</td>\n",
       "      <td>-0.173452</td>\n",
       "    </tr>\n",
       "    <tr>\n",
       "      <th>Case=Nom</th>\n",
       "      <td>mor</td>\n",
       "      <td>15184</td>\n",
       "      <td>-0.156026</td>\n",
       "      <td>-0.192079</td>\n",
       "    </tr>\n",
       "  </tbody>\n",
       "</table>\n",
       "</div>"
      ],
      "text/plain": [
       "                 Tag Type  Doc Count  Expected-Loss-Per-Word (Wiki)  \\\n",
       "Tag                                                                   \n",
       "verb.competition      sst       4410                      -0.226064   \n",
       "PunctType=Peri        mor      42666                      -0.220284   \n",
       "SYM                   pos       2235                      -0.186239   \n",
       "Mood=Ind              mor      34635                      -0.182003   \n",
       "PronType=Art          mor      68187                      -0.177865   \n",
       "Definite=Def          mor      56805                      -0.175617   \n",
       "ADP                   pos      80856                      -0.168727   \n",
       "DET                   pos      70423                      -0.165445   \n",
       "Definite=Ind          mor      26725                      -0.161113   \n",
       "Case=Nom              mor      15184                      -0.156026   \n",
       "\n",
       "                  Expected-Loss-Per-Word (Full)  \n",
       "Tag                                              \n",
       "verb.competition                      -0.234867  \n",
       "PunctType=Peri                        -0.236890  \n",
       "SYM                                   -0.168095  \n",
       "Mood=Ind                              -0.201199  \n",
       "PronType=Art                          -0.189490  \n",
       "Definite=Def                          -0.185289  \n",
       "ADP                                   -0.173951  \n",
       "DET                                   -0.176635  \n",
       "Definite=Ind                          -0.173452  \n",
       "Case=Nom                              -0.192079  "
      ]
     },
     "execution_count": 9,
     "metadata": {},
     "output_type": "execute_result"
    }
   ],
   "source": [
    "# Tags, sorted by Wiki Model accuracy (relative to average)\n",
    "\n",
    "tag_loss_df.sort_values('Expected-Loss-Per-Word (Wiki)').head(10)"
   ]
  },
  {
   "cell_type": "markdown",
   "id": "853cc48d",
   "metadata": {},
   "source": [
    "### Model Comparison"
   ]
  },
  {
   "cell_type": "code",
   "execution_count": 10,
   "id": "bdeb4d31",
   "metadata": {},
   "outputs": [],
   "source": [
    "# Compare Model Accuracy, by Tag\n",
    "\n",
    "tag_loss_df['Model-Diff']  = tag_loss_df['Expected-Loss-Per-Word (Full)']\n",
    "tag_loss_df['Model-Diff'] -= tag_loss_df['Expected-Loss-Per-Word (Wiki)']"
   ]
  },
  {
   "cell_type": "code",
   "execution_count": 11,
   "id": "f648180b",
   "metadata": {},
   "outputs": [
    {
     "data": {
      "text/html": [
       "<div>\n",
       "<style scoped>\n",
       "    .dataframe tbody tr th:only-of-type {\n",
       "        vertical-align: middle;\n",
       "    }\n",
       "\n",
       "    .dataframe tbody tr th {\n",
       "        vertical-align: top;\n",
       "    }\n",
       "\n",
       "    .dataframe thead th {\n",
       "        text-align: right;\n",
       "    }\n",
       "</style>\n",
       "<table border=\"1\" class=\"dataframe\">\n",
       "  <thead>\n",
       "    <tr style=\"text-align: right;\">\n",
       "      <th></th>\n",
       "      <th>Tag Type</th>\n",
       "      <th>Doc Count</th>\n",
       "      <th>Expected-Loss-Per-Word (Wiki)</th>\n",
       "      <th>Expected-Loss-Per-Word (Full)</th>\n",
       "      <th>Model-Diff</th>\n",
       "    </tr>\n",
       "    <tr>\n",
       "      <th>Tag</th>\n",
       "      <th></th>\n",
       "      <th></th>\n",
       "      <th></th>\n",
       "      <th></th>\n",
       "      <th></th>\n",
       "    </tr>\n",
       "  </thead>\n",
       "  <tbody>\n",
       "    <tr>\n",
       "      <th>INTJ</th>\n",
       "      <td>pos</td>\n",
       "      <td>245</td>\n",
       "      <td>0.242559</td>\n",
       "      <td>0.180147</td>\n",
       "      <td>-0.062412</td>\n",
       "    </tr>\n",
       "    <tr>\n",
       "      <th>SCONJ</th>\n",
       "      <td>pos</td>\n",
       "      <td>12231</td>\n",
       "      <td>0.028618</td>\n",
       "      <td>-0.007830</td>\n",
       "      <td>-0.036449</td>\n",
       "    </tr>\n",
       "    <tr>\n",
       "      <th>PRON</th>\n",
       "      <td>pos</td>\n",
       "      <td>37458</td>\n",
       "      <td>-0.090316</td>\n",
       "      <td>-0.121282</td>\n",
       "      <td>-0.030966</td>\n",
       "    </tr>\n",
       "    <tr>\n",
       "      <th>AUX</th>\n",
       "      <td>pos</td>\n",
       "      <td>41050</td>\n",
       "      <td>-0.133965</td>\n",
       "      <td>-0.156721</td>\n",
       "      <td>-0.022756</td>\n",
       "    </tr>\n",
       "    <tr>\n",
       "      <th>PART</th>\n",
       "      <td>pos</td>\n",
       "      <td>23875</td>\n",
       "      <td>-0.087899</td>\n",
       "      <td>-0.110277</td>\n",
       "      <td>-0.022378</td>\n",
       "    </tr>\n",
       "  </tbody>\n",
       "</table>\n",
       "</div>"
      ],
      "text/plain": [
       "      Tag Type  Doc Count  Expected-Loss-Per-Word (Wiki)  \\\n",
       "Tag                                                        \n",
       "INTJ       pos        245                       0.242559   \n",
       "SCONJ      pos      12231                       0.028618   \n",
       "PRON       pos      37458                      -0.090316   \n",
       "AUX        pos      41050                      -0.133965   \n",
       "PART       pos      23875                      -0.087899   \n",
       "\n",
       "       Expected-Loss-Per-Word (Full)  Model-Diff  \n",
       "Tag                                               \n",
       "INTJ                        0.180147   -0.062412  \n",
       "SCONJ                      -0.007830   -0.036449  \n",
       "PRON                       -0.121282   -0.030966  \n",
       "AUX                        -0.156721   -0.022756  \n",
       "PART                       -0.110277   -0.022378  "
      ]
     },
     "execution_count": 11,
     "metadata": {},
     "output_type": "execute_result"
    }
   ],
   "source": [
    "# Top 5 POS tags, sorted by improvement in Full Model over Wiki Model\n",
    "\n",
    "tag_loss_df[tag_loss_df['Tag Type']=='pos'].sort_values('Model-Diff').head(5)"
   ]
  },
  {
   "cell_type": "code",
   "execution_count": 12,
   "id": "7ec276c0",
   "metadata": {},
   "outputs": [
    {
     "data": {
      "text/html": [
       "<div>\n",
       "<style scoped>\n",
       "    .dataframe tbody tr th:only-of-type {\n",
       "        vertical-align: middle;\n",
       "    }\n",
       "\n",
       "    .dataframe tbody tr th {\n",
       "        vertical-align: top;\n",
       "    }\n",
       "\n",
       "    .dataframe thead th {\n",
       "        text-align: right;\n",
       "    }\n",
       "</style>\n",
       "<table border=\"1\" class=\"dataframe\">\n",
       "  <thead>\n",
       "    <tr style=\"text-align: right;\">\n",
       "      <th></th>\n",
       "      <th>Tag Type</th>\n",
       "      <th>Doc Count</th>\n",
       "      <th>Expected-Loss-Per-Word (Wiki)</th>\n",
       "      <th>Expected-Loss-Per-Word (Full)</th>\n",
       "      <th>Model-Diff</th>\n",
       "    </tr>\n",
       "    <tr>\n",
       "      <th>Tag</th>\n",
       "      <th></th>\n",
       "      <th></th>\n",
       "      <th></th>\n",
       "      <th></th>\n",
       "      <th></th>\n",
       "    </tr>\n",
       "  </thead>\n",
       "  <tbody>\n",
       "    <tr>\n",
       "      <th>VerbType=Mod</th>\n",
       "      <td>mor</td>\n",
       "      <td>128</td>\n",
       "      <td>0.040358</td>\n",
       "      <td>-0.094038</td>\n",
       "      <td>-0.134396</td>\n",
       "    </tr>\n",
       "    <tr>\n",
       "      <th>Person=2</th>\n",
       "      <td>mor</td>\n",
       "      <td>389</td>\n",
       "      <td>0.230405</td>\n",
       "      <td>0.122099</td>\n",
       "      <td>-0.108306</td>\n",
       "    </tr>\n",
       "    <tr>\n",
       "      <th>Case=Acc</th>\n",
       "      <td>mor</td>\n",
       "      <td>3683</td>\n",
       "      <td>0.115663</td>\n",
       "      <td>0.026425</td>\n",
       "      <td>-0.089238</td>\n",
       "    </tr>\n",
       "    <tr>\n",
       "      <th>Gender=Fem</th>\n",
       "      <td>mor</td>\n",
       "      <td>3734</td>\n",
       "      <td>0.004815</td>\n",
       "      <td>-0.065956</td>\n",
       "      <td>-0.070771</td>\n",
       "    </tr>\n",
       "    <tr>\n",
       "      <th>Person=1</th>\n",
       "      <td>mor</td>\n",
       "      <td>1429</td>\n",
       "      <td>0.153492</td>\n",
       "      <td>0.093018</td>\n",
       "      <td>-0.060474</td>\n",
       "    </tr>\n",
       "  </tbody>\n",
       "</table>\n",
       "</div>"
      ],
      "text/plain": [
       "             Tag Type  Doc Count  Expected-Loss-Per-Word (Wiki)  \\\n",
       "Tag                                                               \n",
       "VerbType=Mod      mor        128                       0.040358   \n",
       "Person=2          mor        389                       0.230405   \n",
       "Case=Acc          mor       3683                       0.115663   \n",
       "Gender=Fem        mor       3734                       0.004815   \n",
       "Person=1          mor       1429                       0.153492   \n",
       "\n",
       "              Expected-Loss-Per-Word (Full)  Model-Diff  \n",
       "Tag                                                      \n",
       "VerbType=Mod                      -0.094038   -0.134396  \n",
       "Person=2                           0.122099   -0.108306  \n",
       "Case=Acc                           0.026425   -0.089238  \n",
       "Gender=Fem                        -0.065956   -0.070771  \n",
       "Person=1                           0.093018   -0.060474  "
      ]
     },
     "execution_count": 12,
     "metadata": {},
     "output_type": "execute_result"
    }
   ],
   "source": [
    "# Top 5 Morphology tags, sorted by improvement in Full Model over Wiki Model\n",
    "\n",
    "tag_loss_df[tag_loss_df['Tag Type']=='mor'].sort_values('Model-Diff').head(5)"
   ]
  },
  {
   "cell_type": "code",
   "execution_count": 13,
   "id": "6add2e7a",
   "metadata": {},
   "outputs": [
    {
     "data": {
      "text/html": [
       "<div>\n",
       "<style scoped>\n",
       "    .dataframe tbody tr th:only-of-type {\n",
       "        vertical-align: middle;\n",
       "    }\n",
       "\n",
       "    .dataframe tbody tr th {\n",
       "        vertical-align: top;\n",
       "    }\n",
       "\n",
       "    .dataframe thead th {\n",
       "        text-align: right;\n",
       "    }\n",
       "</style>\n",
       "<table border=\"1\" class=\"dataframe\">\n",
       "  <thead>\n",
       "    <tr style=\"text-align: right;\">\n",
       "      <th></th>\n",
       "      <th>Tag Type</th>\n",
       "      <th>Doc Count</th>\n",
       "      <th>Expected-Loss-Per-Word (Wiki)</th>\n",
       "      <th>Expected-Loss-Per-Word (Full)</th>\n",
       "      <th>Model-Diff</th>\n",
       "    </tr>\n",
       "    <tr>\n",
       "      <th>Tag</th>\n",
       "      <th></th>\n",
       "      <th></th>\n",
       "      <th></th>\n",
       "      <th></th>\n",
       "      <th></th>\n",
       "    </tr>\n",
       "  </thead>\n",
       "  <tbody>\n",
       "    <tr>\n",
       "      <th>noun.feeling</th>\n",
       "      <td>sst</td>\n",
       "      <td>771</td>\n",
       "      <td>0.363257</td>\n",
       "      <td>0.264155</td>\n",
       "      <td>-0.099101</td>\n",
       "    </tr>\n",
       "    <tr>\n",
       "      <th>verb.emotion</th>\n",
       "      <td>sst</td>\n",
       "      <td>911</td>\n",
       "      <td>0.340114</td>\n",
       "      <td>0.242821</td>\n",
       "      <td>-0.097293</td>\n",
       "    </tr>\n",
       "    <tr>\n",
       "      <th>noun.Tops</th>\n",
       "      <td>sst</td>\n",
       "      <td>683</td>\n",
       "      <td>0.263324</td>\n",
       "      <td>0.214940</td>\n",
       "      <td>-0.048384</td>\n",
       "    </tr>\n",
       "    <tr>\n",
       "      <th>verb.motion</th>\n",
       "      <td>sst</td>\n",
       "      <td>5498</td>\n",
       "      <td>0.104309</td>\n",
       "      <td>0.057368</td>\n",
       "      <td>-0.046941</td>\n",
       "    </tr>\n",
       "    <tr>\n",
       "      <th>verb.body</th>\n",
       "      <td>sst</td>\n",
       "      <td>880</td>\n",
       "      <td>0.088734</td>\n",
       "      <td>0.043710</td>\n",
       "      <td>-0.045024</td>\n",
       "    </tr>\n",
       "  </tbody>\n",
       "</table>\n",
       "</div>"
      ],
      "text/plain": [
       "             Tag Type  Doc Count  Expected-Loss-Per-Word (Wiki)  \\\n",
       "Tag                                                               \n",
       "noun.feeling      sst        771                       0.363257   \n",
       "verb.emotion      sst        911                       0.340114   \n",
       "noun.Tops         sst        683                       0.263324   \n",
       "verb.motion       sst       5498                       0.104309   \n",
       "verb.body         sst        880                       0.088734   \n",
       "\n",
       "              Expected-Loss-Per-Word (Full)  Model-Diff  \n",
       "Tag                                                      \n",
       "noun.feeling                       0.264155   -0.099101  \n",
       "verb.emotion                       0.242821   -0.097293  \n",
       "noun.Tops                          0.214940   -0.048384  \n",
       "verb.motion                        0.057368   -0.046941  \n",
       "verb.body                          0.043710   -0.045024  "
      ]
     },
     "execution_count": 13,
     "metadata": {},
     "output_type": "execute_result"
    }
   ],
   "source": [
    "# Top 5 Supersense tags, sorted by improvement in Full Model over Wiki Model\n",
    "\n",
    "tag_loss_df[tag_loss_df['Tag Type']=='sst'].sort_values('Model-Diff').head(5)"
   ]
  }
 ],
 "metadata": {
  "kernelspec": {
   "display_name": "Python 3 (ipykernel)",
   "language": "python",
   "name": "python3"
  },
  "language_info": {
   "codemirror_mode": {
    "name": "ipython",
    "version": 3
   },
   "file_extension": ".py",
   "mimetype": "text/x-python",
   "name": "python",
   "nbconvert_exporter": "python",
   "pygments_lexer": "ipython3",
   "version": "3.9.15"
  }
 },
 "nbformat": 4,
 "nbformat_minor": 5
}
